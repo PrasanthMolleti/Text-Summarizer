{
 "cells": [
  {
   "cell_type": "code",
   "execution_count": 1,
   "id": "140b3c2d",
   "metadata": {},
   "outputs": [],
   "source": [
    "import pandas as pd"
   ]
  },
  {
   "cell_type": "code",
   "execution_count": 36,
   "id": "f96d5eee",
   "metadata": {},
   "outputs": [],
   "source": [
    "import nltk\n",
    "from nltk.cluster.util import cosine_distance\n",
    "from scipy.special import comb\n",
    "from sklearn.feature_extraction.text import TfidfVectorizer, CountVectorizer\n",
    "from nltk.tokenize import sent_tokenize, word_tokenize"
   ]
  },
  {
   "cell_type": "code",
   "execution_count": 4,
   "id": "eb4e1e69",
   "metadata": {},
   "outputs": [],
   "source": [
    "from sklearn.metrics.pairwise import pairwise_kernels"
   ]
  },
  {
   "cell_type": "code",
   "execution_count": 48,
   "id": "144942fe",
   "metadata": {},
   "outputs": [],
   "source": [
    "import lexrank\n",
    "import itertools\n",
    "\n",
    "from nltk.stem.wordnet import WordNetLemmatizer\n",
    "\n",
    "import re\n",
    "\n",
    "from sklearn.metrics.pairwise import cosine_similarity"
   ]
  },
  {
   "cell_type": "code",
   "execution_count": 43,
   "id": "b5c33793",
   "metadata": {},
   "outputs": [],
   "source": [
    "## Lemmatizer can be replaced by PorterStemmer fot better time-efficiency\n",
    "lemmatizer = WordNetLemmatizer()\n",
    "\n",
    "def normalize_and_tokenize(text, stemmer = lemmatizer.lemmatize):\n",
    "    tokenized_words = word_tokenize(text)\n",
    "    filtered_words = [stemmer(word.replace(r'[^a-zA-Z]', '')) for word in tokenized_words]\n",
    "    \n",
    "    return (' '.join(filtered_words)).split('.')"
   ]
  },
  {
   "cell_type": "code",
   "execution_count": 59,
   "id": "1a02e98b",
   "metadata": {},
   "outputs": [],
   "source": [
    "def word_vectorize(sents, tfidf = True, ngram_range = (1, 1)):\n",
    "    stop_words = nltk.corpus.stopwords.words('english')\n",
    "    \n",
    "    if tfidf:\n",
    "        vectorizer = TfidfVectorizer(sublinear_tf = True, stop_words = stop_words, \n",
    "                                     analyzer = 'word', lowercase = True, ngram_range = ngram_range)\n",
    "        return vectorizer.fit_transform(sents)\n",
    "\n",
    "    else:\n",
    "        vectorizer = CountVectorizer(tokenizer = word_tokenize, lowercase = True, \n",
    "                                     stop_words = stop_words, decode_error = 'ignore', \n",
    "                                     ngram_range = ngram_range)\n",
    "        return vectorizer.fit_transform(sents)"
   ]
  },
  {
   "cell_type": "code",
   "execution_count": 1,
   "id": "194ec85f",
   "metadata": {},
   "outputs": [],
   "source": [
    "def text_summarize(file_location, term_doc_matrix = None, req_sentences = 9, tfidf = False, ngram_range = (1,1), verbose = False, stopwords = None):\n",
    "    with open(file_location, 'r') as file:\n",
    "        data = file.readlines()\n",
    "    text = data[0]\n",
    "    if term_doc_matrix is None:\n",
    "        if verbose: print('Reading document...')\n",
    "        sents = sent_tokenize(text)\n",
    "        if verbose: print('Fitting word vector...')\n",
    "        term_doc_matrix = word_vectorize(sents, tfidf = tfidf, ngram_range = ngram_range)\n",
    "    if verbose: print('Building similarity matrix...')\n",
    "    similarity_matrix = pairwise_kernels(term_doc_matrix, metric = 'cosine')\n",
    "    lexrank_object = lexrank.LexRank(sents, stopwords = lexrank.STOPWORDS['en'])\n",
    "    text_summary = ' '.join(lexrank_object.get_summary(sents, summary_size = req_sentences))\n",
    "    print('Text Summary of', req_sentences, 'lines :', '\\n', text_summary)\n",
    "    scores = sorted(lexrank_object.rank_sentences(sents), reverse = True)\n",
    "    return {'term_doc_matrix' : term_doc_matrix, 'scores' : scores, 'text_summary' : text_summary}"
   ]
  },
  {
   "cell_type": "code",
   "execution_count": 63,
   "id": "863459de",
   "metadata": {},
   "outputs": [
    {
     "name": "stdout",
     "output_type": "stream",
     "text": [
      "Reading document...\n",
      "Fitting word vector...\n",
      "Building similarity matrix...\n",
      "Text Summary of 9 lines : \n",
      " Data mining is a related field of study, focusing on exploratory data analysis through unsupervised learning.Some implementations of machine learning use data and neural networks in a way that mimics the working of a biological brain.In its application across business problems, machine learning is also referred to as predictive analytics. The study of mathematical optimization delivers methods, theory and application domains to the field of machine learning. It is seen as a part of artificial intelligence.Machine learning algorithms build a model based on sample data, known as training data, in order to make predictions or decisions without being explicitly programmed to do so.Machine learning algorithms are used in a wide variety of applications, such as in medicine, email filtering, speech recognition, agriculture, and computer vision, where it is difficult or unfeasible to develop conventional algorithms to perform the needed tasks.A subset of machine learning is closely related to computational statistics, which focuses on making predictions using computers, but not all machine learning is statistical learning. Machine learning (ML) is a field of inquiry devoted to understanding and building methods that \"learn\" â€“ that is, methods that leverage data to improve performance on some set of tasks.\n"
     ]
    }
   ],
   "source": [
    "text_summarize('./sample_text.txt', tfidf = True, verbose = True)"
   ]
  },
  {
   "cell_type": "code",
   "execution_count": null,
   "id": "5554d0c8",
   "metadata": {},
   "outputs": [],
   "source": []
  }
 ],
 "metadata": {
  "kernelspec": {
   "display_name": "Python 3 (ipykernel)",
   "language": "python",
   "name": "python3"
  },
  "language_info": {
   "codemirror_mode": {
    "name": "ipython",
    "version": 3
   },
   "file_extension": ".py",
   "mimetype": "text/x-python",
   "name": "python",
   "nbconvert_exporter": "python",
   "pygments_lexer": "ipython3",
   "version": "3.9.7"
  }
 },
 "nbformat": 4,
 "nbformat_minor": 5
}
