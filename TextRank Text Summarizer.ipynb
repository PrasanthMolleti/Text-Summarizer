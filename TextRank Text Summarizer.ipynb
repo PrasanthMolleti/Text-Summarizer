{
 "cells": [
  {
   "cell_type": "code",
   "execution_count": 45,
   "id": "56ac16bf",
   "metadata": {},
   "outputs": [
    {
     "data": {
      "application/javascript": [
       "\n",
       "            setTimeout(function() {\n",
       "                var nbb_cell_id = 45;\n",
       "                var nbb_unformatted_code = \"%matplotlib inline\\n%load_ext nb_black\\nimport numpy as np\\nimport pandas as pd\\nimport matplotlib.pyplot as plt\\nimport seaborn as sns\";\n",
       "                var nbb_formatted_code = \"%matplotlib inline\\n%load_ext nb_black\\nimport numpy as np\\nimport pandas as pd\\nimport matplotlib.pyplot as plt\\nimport seaborn as sns\";\n",
       "                var nbb_cells = Jupyter.notebook.get_cells();\n",
       "                for (var i = 0; i < nbb_cells.length; ++i) {\n",
       "                    if (nbb_cells[i].input_prompt_number == nbb_cell_id) {\n",
       "                        if (nbb_cells[i].get_text() == nbb_unformatted_code) {\n",
       "                             nbb_cells[i].set_text(nbb_formatted_code);\n",
       "                        }\n",
       "                        break;\n",
       "                    }\n",
       "                }\n",
       "            }, 500);\n",
       "            "
      ],
      "text/plain": [
       "<IPython.core.display.Javascript object>"
      ]
     },
     "metadata": {},
     "output_type": "display_data"
    }
   ],
   "source": [
    "%matplotlib inline\n",
    "%load_ext nb_black\n",
    "import numpy as np\n",
    "import pandas as pd\n",
    "import matplotlib.pyplot as plt\n",
    "import seaborn as sns"
   ]
  },
  {
   "cell_type": "code",
   "execution_count": 3,
   "id": "2416ea8b",
   "metadata": {},
   "outputs": [],
   "source": [
    "import nltk\n",
    "from nltk.corpus import stopwords\n",
    "from nltk.cluster.util import cosine_distance"
   ]
  },
  {
   "cell_type": "code",
   "execution_count": 2,
   "id": "ec313cb7",
   "metadata": {},
   "outputs": [
    {
     "name": "stdout",
     "output_type": "stream",
     "text": [
      "Requirement already satisfied: networkx in d:\\anaconda\\lib\\site-packages (2.6.3)\n"
     ]
    }
   ],
   "source": [
    "# !pip install networkx"
   ]
  },
  {
   "cell_type": "code",
   "execution_count": 4,
   "id": "88ae5b2b",
   "metadata": {},
   "outputs": [],
   "source": [
    "import networkx"
   ]
  },
  {
   "cell_type": "code",
   "execution_count": 26,
   "id": "baeb5059",
   "metadata": {},
   "outputs": [],
   "source": [
    "def scan_text(file_location):\n",
    "    with open(file_location, 'r') as file:\n",
    "        data = file.readlines()\n",
    "    text = data[0].split('.')\n",
    "    lines = []\n",
    "    for line in text:\n",
    "        lines.append(line.replace('[^a-zA-Z]', ' ').split(' '))\n",
    "    lines.pop()\n",
    "    \n",
    "    return lines"
   ]
  },
  {
   "cell_type": "code",
   "execution_count": 8,
   "id": "400b4d41",
   "metadata": {},
   "outputs": [],
   "source": [
    "def sent_similarity(line_1, line_2, stopwords = None):\n",
    "    if stopwords is None:\n",
    "        stopwords = []\n",
    "\n",
    "    line_1 = [word.lower() for word in line_1]\n",
    "    line_2 = [word.lower() for word in line_2]\n",
    "    \n",
    "    corpus = list(set(line_1 + line_2))\n",
    "    \n",
    "    word_vector_1 = [0] * len(corpus)\n",
    "    word_vector_2 = [0] * len(corpus)\n",
    "    \n",
    "    for word in line_1:\n",
    "        if word not in stopwords:\n",
    "            word_vector_1[corpus.index(word)] += 1\n",
    "    \n",
    "    for word in line_2:\n",
    "        if word not in stopwords:\n",
    "            word_vector_2[corpus.index(word)] += 1\n",
    "    \n",
    "    # To make the similarity values positive(i.e., 0 to 2)\n",
    "    return 1 - cosine_distance(word_vector_1, word_vector_2)"
   ]
  },
  {
   "cell_type": "code",
   "execution_count": 47,
   "id": "486ff1d2",
   "metadata": {},
   "outputs": [
    {
     "data": {
      "application/javascript": [
       "\n",
       "            setTimeout(function() {\n",
       "                var nbb_cell_id = 47;\n",
       "                var nbb_unformatted_code = \"def create_similarity_matrix(lines, stopwords):\\n    similarity_matrix = np.ones((len(lines), len(lines)))\\n    \\n    for ind in range(len(lines)):\\n        for index in range(len(lines)):\\n            similarity_matrix[index][ind] = sent_similarity(lines[index], lines[ind], stopwords)\\n    plt.figure(figsize = (14, 19))\\n    sns.heatmap(similarity_matrix)\\n    plt.plot()\\n    return similarity_matrix\";\n",
       "                var nbb_formatted_code = \"def create_similarity_matrix(lines, stopwords):\\n    similarity_matrix = np.ones((len(lines), len(lines)))\\n\\n    for ind in range(len(lines)):\\n        for index in range(len(lines)):\\n            similarity_matrix[index][ind] = sent_similarity(\\n                lines[index], lines[ind], stopwords\\n            )\\n    plt.figure(figsize=(14, 19))\\n    sns.heatmap(similarity_matrix)\\n    plt.plot()\\n    return similarity_matrix\";\n",
       "                var nbb_cells = Jupyter.notebook.get_cells();\n",
       "                for (var i = 0; i < nbb_cells.length; ++i) {\n",
       "                    if (nbb_cells[i].input_prompt_number == nbb_cell_id) {\n",
       "                        if (nbb_cells[i].get_text() == nbb_unformatted_code) {\n",
       "                             nbb_cells[i].set_text(nbb_formatted_code);\n",
       "                        }\n",
       "                        break;\n",
       "                    }\n",
       "                }\n",
       "            }, 500);\n",
       "            "
      ],
      "text/plain": [
       "<IPython.core.display.Javascript object>"
      ]
     },
     "metadata": {},
     "output_type": "display_data"
    }
   ],
   "source": [
    "def create_similarity_matrix(lines, stopwords):\n",
    "    similarity_matrix = np.ones((len(lines), len(lines)))\n",
    "\n",
    "    for ind in range(len(lines)):\n",
    "        for index in range(len(lines)):\n",
    "            similarity_matrix[index][ind] = sent_similarity(\n",
    "                lines[index], lines[ind], stopwords\n",
    "            )\n",
    "    plt.figure(figsize=(14, 19))\n",
    "    sns.heatmap(similarity_matrix)\n",
    "    plt.plot()\n",
    "    return similarity_matrix"
   ]
  },
  {
   "cell_type": "code",
   "execution_count": 50,
   "id": "4384553f",
   "metadata": {},
   "outputs": [
    {
     "data": {
      "application/javascript": [
       "\n",
       "            setTimeout(function() {\n",
       "                var nbb_cell_id = 50;\n",
       "                var nbb_unformatted_code = \"def summarize_text(file_location, req_sentences = 9, additional_stopwords = []):\\n    stopwords_ = stopwords.words('english')\\n    stopwords_ += (additional_stopwords)\\n    summarized_text_sent = []\\n    \\n    lines = scan_text(file_location)\\n    sent_similarity_matrix = create_similarity_matrix(lines, stopwords_)\\n    \\n    sent_graph = networkx.from_numpy_array(sent_similarity_matrix)\\n    sent_score = networkx.pagerank(sent_graph)\\n    \\n    sent_ranking = sorted([(sent_score[sent[0]], sent[1]) for sent in enumerate(lines)], reverse = True)\\n    \\n    for index in range(req_sentences):\\n        summarized_text_sent.append(' '.join(sent_ranking[index][1]))\\n    \\n    summarized_text = '. '.join(summarized_text_sent)\\n    \\n    print('The Summarized Text Of', req_sentences, 'lines :\\\\n', summarized_text)\\n    print('\\\\nHeatmap of the Similarity Matrix', '\\\\n') \";\n",
       "                var nbb_formatted_code = \"def summarize_text(file_location, req_sentences=9, additional_stopwords=[]):\\n    stopwords_ = stopwords.words(\\\"english\\\")\\n    stopwords_ += additional_stopwords\\n    summarized_text_sent = []\\n\\n    lines = scan_text(file_location)\\n    sent_similarity_matrix = create_similarity_matrix(lines, stopwords_)\\n\\n    sent_graph = networkx.from_numpy_array(sent_similarity_matrix)\\n    sent_score = networkx.pagerank(sent_graph)\\n\\n    sent_ranking = sorted(\\n        [(sent_score[sent[0]], sent[1]) for sent in enumerate(lines)], reverse=True\\n    )\\n\\n    for index in range(req_sentences):\\n        summarized_text_sent.append(\\\" \\\".join(sent_ranking[index][1]))\\n\\n    summarized_text = \\\". \\\".join(summarized_text_sent)\\n\\n    print(\\\"The Summarized Text Of\\\", req_sentences, \\\"lines :\\\\n\\\", summarized_text)\\n    print(\\\"\\\\nHeatmap of the Similarity Matrix\\\", \\\"\\\\n\\\")\";\n",
       "                var nbb_cells = Jupyter.notebook.get_cells();\n",
       "                for (var i = 0; i < nbb_cells.length; ++i) {\n",
       "                    if (nbb_cells[i].input_prompt_number == nbb_cell_id) {\n",
       "                        if (nbb_cells[i].get_text() == nbb_unformatted_code) {\n",
       "                             nbb_cells[i].set_text(nbb_formatted_code);\n",
       "                        }\n",
       "                        break;\n",
       "                    }\n",
       "                }\n",
       "            }, 500);\n",
       "            "
      ],
      "text/plain": [
       "<IPython.core.display.Javascript object>"
      ]
     },
     "metadata": {},
     "output_type": "display_data"
    }
   ],
   "source": [
    "def summarize_text(file_location, req_sentences = 9, additional_stopwords = []):\n",
    "    stopwords_ = stopwords.words('english')\n",
    "    stopwords_ += (additional_stopwords)\n",
    "    summarized_text_sent = []\n",
    "    \n",
    "    lines = scan_text(file_location)\n",
    "    sent_similarity_matrix = create_similarity_matrix(lines, stopwords_)\n",
    "    \n",
    "    sent_graph = networkx.from_numpy_array(sent_similarity_matrix)\n",
    "    sent_score = networkx.pagerank(sent_graph)\n",
    "    \n",
    "    sent_ranking = sorted([(sent_score[sent[0]], sent[1]) for sent in enumerate(lines)], reverse = True)\n",
    "    \n",
    "    for index in range(req_sentences):\n",
    "        summarized_text_sent.append(' '.join(sent_ranking[index][1]))\n",
    "    \n",
    "    summarized_text = '. '.join(summarized_text_sent)\n",
    "    \n",
    "    print('The Summarized Text Of', req_sentences, 'lines :\\n', summarized_text)\n",
    "    print('\\nHeatmap of the Similarity Matrix', '\\n') \n"
   ]
  },
  {
   "cell_type": "code",
   "execution_count": 51,
   "id": "335551a0",
   "metadata": {},
   "outputs": [
    {
     "name": "stdout",
     "output_type": "stream",
     "text": [
      "The Summarized Text Of 9 lines :\n",
      " A subset of machine learning is closely related to computational statistics, which focuses on making predictions using computers, but not all machine learning is statistical learning.  The study of mathematical optimization delivers methods, theory and application domains to the field of machine learning. Some implementations of machine learning use data and neural networks in a way that mimics the working of a biological brain.  Data mining is a related field of study, focusing on exploratory data analysis through unsupervised learning. In its application across business problems, machine learning is also referred to as predictive analytics. Machine learning (ML) is a field of inquiry devoted to understanding and building methods that \"learn\" â€“ that is, methods that leverage data to improve performance on some set of tasks. Machine learning algorithms build a model based on sample data, known as training data, in order to make predictions or decisions without being explicitly programmed to do so. Machine learning algorithms are used in a wide variety of applications, such as in medicine, email filtering, speech recognition, agriculture, and computer vision, where it is difficult or unfeasible to develop conventional algorithms to perform the needed tasks.  It is seen as a part of artificial intelligence\n",
      "\n",
      "Heatmap of the Similarity Matrix \n",
      "\n"
     ]
    },
    {
     "data": {
      "image/png": "[encoded data removed]",
      "text/plain": [
       "<Figure size 1008x1368 with 2 Axes>"
      ]
     },
     "metadata": {
      "needs_background": "light"
     },
     "output_type": "display_data"
    },
    {
     "data": {
      "application/javascript": [
       "\n",
       "            setTimeout(function() {\n",
       "                var nbb_cell_id = 51;\n",
       "                var nbb_unformatted_code = \"summarize_text(\\\"./sample_text.txt\\\")\";\n",
       "                var nbb_formatted_code = \"summarize_text(\\\"./sample_text.txt\\\")\";\n",
       "                var nbb_cells = Jupyter.notebook.get_cells();\n",
       "                for (var i = 0; i < nbb_cells.length; ++i) {\n",
       "                    if (nbb_cells[i].input_prompt_number == nbb_cell_id) {\n",
       "                        if (nbb_cells[i].get_text() == nbb_unformatted_code) {\n",
       "                             nbb_cells[i].set_text(nbb_formatted_code);\n",
       "                        }\n",
       "                        break;\n",
       "                    }\n",
       "                }\n",
       "            }, 500);\n",
       "            "
      ],
      "text/plain": [
       "<IPython.core.display.Javascript object>"
      ]
     },
     "metadata": {},
     "output_type": "display_data"
    }
   ],
   "source": [
    "summarize_text(\"./sample_text.txt\")"
   ]
  }
 ],
 "metadata": {
  "kernelspec": {
   "display_name": "Python 3 (ipykernel)",
   "language": "python",
   "name": "python3"
  },
  "language_info": {
   "codemirror_mode": {
    "name": "ipython",
    "version": 3
   },
   "file_extension": ".py",
   "mimetype": "text/x-python",
   "name": "python",
   "nbconvert_exporter": "python",
   "pygments_lexer": "ipython3",
   "version": "3.9.7"
  }
 },
 "nbformat": 4,
 "nbformat_minor": 5
}
